{
  "nbformat": 4,
  "nbformat_minor": 0,
  "metadata": {
    "colab": {
      "name": "Project_2_NLP.ipynb",
      "provenance": [],
      "toc_visible": true,
      "include_colab_link": true
    },
    "kernelspec": {
      "name": "python3",
      "display_name": "Python 3"
    },
    "language_info": {
      "name": "python"
    },
    "accelerator": "GPU"
  },
  "cells": [
    {
      "cell_type": "markdown",
      "metadata": {
        "id": "view-in-github",
        "colab_type": "text"
      },
      "source": [
        "<a href=\"https://colab.research.google.com/github/sbecker17/public_work/blob/main/Project_2_NLP.ipynb\" target=\"_parent\"><img src=\"https://colab.research.google.com/assets/colab-badge.svg\" alt=\"Open In Colab\"/></a>"
      ]
    },
    {
      "cell_type": "markdown",
      "metadata": {
        "id": "vu0Kz0Nq4ui4"
      },
      "source": [
        "# Project \\#2 Starter Code\n",
        "Your project should address the categories below. \n",
        "\n",
        "## Problem:\n",
        "\n"
      ]
    },
    {
      "cell_type": "markdown",
      "metadata": {
        "id": "NBZAVjcWhgBV"
      },
      "source": [
        "# Input Pipeline (sklearn):"
      ]
    },
    {
      "cell_type": "code",
      "metadata": {
        "colab": {
          "base_uri": "https://localhost:8080/",
          "height": 225
        },
        "id": "12XGv2fIfTSr",
        "outputId": "3f4ac6c8-72cd-42a6-8d09-25dbb7f5e57e"
      },
      "source": [
        "from google.colab import drive\n",
        "import pandas\n",
        "drive.mount('/content/drive')\n",
        "data = pandas.read_csv('/content/drive/MyDrive/CS167/datasets/IMDB_dataset.csv')\n",
        "data.head()"
      ],
      "execution_count": 1,
      "outputs": [
        {
          "output_type": "stream",
          "name": "stdout",
          "text": [
            "Mounted at /content/drive\n"
          ]
        },
        {
          "output_type": "execute_result",
          "data": {
            "text/html": [
              "<div>\n",
              "<style scoped>\n",
              "    .dataframe tbody tr th:only-of-type {\n",
              "        vertical-align: middle;\n",
              "    }\n",
              "\n",
              "    .dataframe tbody tr th {\n",
              "        vertical-align: top;\n",
              "    }\n",
              "\n",
              "    .dataframe thead th {\n",
              "        text-align: right;\n",
              "    }\n",
              "</style>\n",
              "<table border=\"1\" class=\"dataframe\">\n",
              "  <thead>\n",
              "    <tr style=\"text-align: right;\">\n",
              "      <th></th>\n",
              "      <th>review</th>\n",
              "      <th>sentiment</th>\n",
              "    </tr>\n",
              "  </thead>\n",
              "  <tbody>\n",
              "    <tr>\n",
              "      <th>0</th>\n",
              "      <td>One of the other reviewers has mentioned that ...</td>\n",
              "      <td>positive</td>\n",
              "    </tr>\n",
              "    <tr>\n",
              "      <th>1</th>\n",
              "      <td>A wonderful little production. &lt;br /&gt;&lt;br /&gt;The...</td>\n",
              "      <td>positive</td>\n",
              "    </tr>\n",
              "    <tr>\n",
              "      <th>2</th>\n",
              "      <td>I thought this was a wonderful way to spend ti...</td>\n",
              "      <td>positive</td>\n",
              "    </tr>\n",
              "    <tr>\n",
              "      <th>3</th>\n",
              "      <td>Basically there's a family where a little boy ...</td>\n",
              "      <td>negative</td>\n",
              "    </tr>\n",
              "    <tr>\n",
              "      <th>4</th>\n",
              "      <td>Petter Mattei's \"Love in the Time of Money\" is...</td>\n",
              "      <td>positive</td>\n",
              "    </tr>\n",
              "  </tbody>\n",
              "</table>\n",
              "</div>"
            ],
            "text/plain": [
              "                                              review sentiment\n",
              "0  One of the other reviewers has mentioned that ...  positive\n",
              "1  A wonderful little production. <br /><br />The...  positive\n",
              "2  I thought this was a wonderful way to spend ti...  positive\n",
              "3  Basically there's a family where a little boy ...  negative\n",
              "4  Petter Mattei's \"Love in the Time of Money\" is...  positive"
            ]
          },
          "metadata": {},
          "execution_count": 1
        }
      ]
    },
    {
      "cell_type": "markdown",
      "metadata": {
        "id": "ICUC-PvQ5bP2"
      },
      "source": [
        "## Data Exploration:\n",
        "- Number of samples\n",
        "- Number of classes of the target variable\n",
        "- Number of words per sample\n",
        "- Distribution of sample length\n",
        "- **Something else: get creative :) **"
      ]
    },
    {
      "cell_type": "code",
      "metadata": {
        "id": "9kkCmgdf5ZqB",
        "colab": {
          "base_uri": "https://localhost:8080/",
          "height": 357
        },
        "outputId": "16861575-e9a1-4f7e-9081-008cf13c2f5b"
      },
      "source": [
        "## Use cells here to explore the data:\n",
        "import matplotlib.pyplot as plt\n",
        "import numpy as np\n",
        "#number of samples:\n",
        "print(data.count())\n",
        "#total of 50000 data points\n",
        "\n",
        "#number of classes\n",
        "print(set(data[\"sentiment\"]))\n",
        "#options for sentiment are 'negative' or 'positive', so there are 2 options\n",
        "\n",
        "#num words/sample\n",
        "length_sample = []\n",
        "i = 0\n",
        "for row in range(len(data)):\n",
        "  count = 0\n",
        "  curr_review = data.iloc[i,0]\n",
        "  #print(curr_review)\n",
        "  for word in curr_review:\n",
        "    count=count+1\n",
        "  length_sample.append(count)\n",
        "  i = i+1\n",
        "#print(length_sample)\n",
        "print(\"Avg num words per sample: \", sum(length_sample)/len(length_sample))\n",
        "\n",
        "#distribution of sample length\n",
        "plt.hist(length_sample)  \n",
        "plt.show()\n",
        "#np.histogram(length_sample)\n",
        "\n"
      ],
      "execution_count": 2,
      "outputs": [
        {
          "output_type": "stream",
          "name": "stdout",
          "text": [
            "review       50000\n",
            "sentiment    50000\n",
            "dtype: int64\n",
            "{'negative', 'positive'}\n",
            "Avg num words per sample:  1309.43102\n"
          ]
        },
        {
          "output_type": "display_data",
          "data": {
            "image/png": "[encoded data removed]",
            "text/plain": [
              "<Figure size 432x288 with 1 Axes>"
            ]
          },
          "metadata": {
            "needs_background": "light"
          }
        }
      ]
    },
    {
      "cell_type": "markdown",
      "metadata": {
        "id": "F88cmdUcamtK"
      },
      "source": [
        "Above, I looked into the data by looking for the number of samples, which is 50000. I also checked how many classes there were for the reviews to be, as it was possible that there was a classification other than positive or negative. However after looking at the data, the only classes are positive or negative. Moving forward, I found the number of words in every review, however this is also likely including the parts of the reviews that say <\"br\">, therefore this number might be a little large. The average length of all of the samples is 1309.43 words. Looking at the histogram of the sample lengths, there are clearly many more samples on the low end of the range, and very few super wordy reviews."
      ]
    },
    {
      "cell_type": "markdown",
      "metadata": {
        "id": "ZSuguZ6u5lUl"
      },
      "source": [
        "## Data Preparation:\n",
        "\n",
        "I'm providing you with code that cleans the reviews by making it all lowercase letters and removing stop words. The three cells below do this for you. I still want you to explain what you did with the data here. "
      ]
    },
    {
      "cell_type": "code",
      "metadata": {
        "colab": {
          "base_uri": "https://localhost:8080/"
        },
        "id": "YV4FfvLegTSh",
        "outputId": "97b7cfd1-4285-4db4-f841-9f1211b30d08"
      },
      "source": [
        "from bs4 import BeautifulSoup\n",
        "import re\n",
        "import nltk\n",
        "#only do next line once\n",
        "nltk.download() #in Corpora tab, download stopwords\n",
        "from nltk.corpus import stopwords\n",
        "from sklearn.model_selection import train_test_split\n",
        "#The NLTK downloader will open, you need to select (d) for Download, and then 'stopwords'then (q) to quit"
      ],
      "execution_count": 3,
      "outputs": [
        {
          "name": "stdout",
          "output_type": "stream",
          "text": [
            "NLTK Downloader\n",
            "---------------------------------------------------------------------------\n",
            "    d) Download   l) List    u) Update   c) Config   h) Help   q) Quit\n",
            "---------------------------------------------------------------------------\n",
            "Downloader> d\n",
            "\n",
            "Download which package (l=list; x=cancel)?\n",
            "  Identifier> stopwords\n",
            "    Downloading package stopwords to /root/nltk_data...\n",
            "      Unzipping corpora/stopwords.zip.\n",
            "\n",
            "---------------------------------------------------------------------------\n",
            "    d) Download   l) List    u) Update   c) Config   h) Help   q) Quit\n",
            "---------------------------------------------------------------------------\n",
            "Downloader> q\n"
          ]
        }
      ]
    },
    {
      "cell_type": "code",
      "metadata": {
        "id": "O053pjFBfu1v"
      },
      "source": [
        "#This is a function that takes in a review, makes sure it is only lower case letters and removes stopwords.\n",
        "#It returns the cleaned review text.\n",
        "def clean_review(review):\n",
        "    #input is a string review\n",
        "    #return is review cleaned of all punctuation, lowercase, and removed nltk stopwords\n",
        "    review = review.replace('<br />', ' ') #I have added this line to get rid of the line break indicator just because it was annoying me.\n",
        "    letters_only = re.sub(\"[^a-zA-Z]\",\" \",review)\n",
        "    lower_case = letters_only.lower()\n",
        "    words = lower_case.split()\n",
        "    for stop_word in stopwords.words(\"english\"):\n",
        "        while stop_word in words:\n",
        "            words.remove(stop_word)\n",
        "    \n",
        "    cleaned = \" \".join(words)\n",
        "    return cleaned"
      ],
      "execution_count": 4,
      "outputs": []
    },
    {
      "cell_type": "code",
      "metadata": {
        "id": "zsA4OodyjLXw"
      },
      "source": [
        "#process the data\n",
        "cleaned_text = []\n",
        "for i in range(5):\n",
        "    cleaned_text.append(clean_review(data[\"review\"][i]))  "
      ],
      "execution_count": 6,
      "outputs": []
    },
    {
      "cell_type": "code",
      "metadata": {
        "id": "QEjHsILZgk9V"
      },
      "source": [
        "#process the data\n",
        "cleaned_text = []\n",
        "for i in range(len(data)):\n",
        "    cleaned_text.append(clean_review(data[\"review\"][i]))  "
      ],
      "execution_count": 5,
      "outputs": []
    },
    {
      "cell_type": "code",
      "metadata": {
        "colab": {
          "base_uri": "https://localhost:8080/"
        },
        "id": "LMg3P0ZNBvGM",
        "outputId": "5b699d92-cb6e-4975-e717-3ed8aa8fca58"
      },
      "source": [
        "cleaned_text[:5]"
      ],
      "execution_count": 6,
      "outputs": [
        {
          "output_type": "execute_result",
          "data": {
            "text/plain": [
              "['one reviewers mentioned watching oz episode hooked right exactly happened first thing struck oz brutality unflinching scenes violence set right word go trust show faint hearted timid show pulls punches regards drugs sex violence hardcore classic use word called oz nickname given oswald maximum security state penitentary focuses mainly emerald city experimental section prison cells glass fronts face inwards privacy high agenda em city home many aryans muslims gangstas latinos christians italians irish scuffles death stares dodgy dealings shady agreements never far away would say main appeal show due fact goes shows dare forget pretty pictures painted mainstream audiences forget charm forget romance oz mess around first episode ever saw struck nasty surreal say ready watched developed taste oz got accustomed high levels graphic violence violence injustice crooked guards sold nickel inmates kill order get away well mannered middle class inmates turned prison bitches due lack street skills prison experience watching oz may become comfortable uncomfortable viewing thats get touch darker side',\n",
              " 'wonderful little production filming technique unassuming old time bbc fashion gives comforting sometimes discomforting sense realism entire piece actors extremely well chosen michael sheen got polari voices pat truly see seamless editing guided references williams diary entries well worth watching terrificly written performed piece masterful production one great master comedy life realism really comes home little things fantasy guard rather use traditional dream techniques remains solid disappears plays knowledge senses particularly scenes concerning orton halliwell sets particularly flat halliwell murals decorating every surface terribly well done',\n",
              " 'thought wonderful way spend time hot summer weekend sitting air conditioned theater watching light hearted comedy plot simplistic dialogue witty characters likable even well bread suspected serial killer may disappointed realize match point risk addiction thought proof woody allen still fully control style many us grown love laughed one woody comedies years dare say decade never impressed scarlet johanson managed tone sexy image jumped right average spirited young woman may crown jewel career wittier devil wears prada interesting superman great comedy go see friends',\n",
              " 'basically family little boy jake thinks zombie closet parents fighting time movie slower soap opera suddenly jake decides become rambo kill zombie ok first going make film must decide thriller drama drama movie watchable parents divorcing arguing like real life jake closet totally ruins film expected see boogeyman similar movie instead watched drama meaningless thriller spots well playing parents descent dialogs shots jake ignore',\n",
              " 'petter mattei love time money visually stunning film watch mr mattei offers us vivid portrait human relations movie seems telling us money power success people different situations encounter variation arthur schnitzler play theme director transfers action present time new york different characters meet connect one connected one way another next person one seems know previous point contact stylishly film sophisticated luxurious look taken see people live world live habitat thing one gets souls picture different stages loneliness one inhabits big city exactly best place human relations find sincere fulfillment one discerns case people encounter acting good mr mattei direction steve buscemi rosario dawson carol kane michael imperioli adrian grenier rest talented cast make characters come alive wish mr mattei good luck await anxiously next work']"
            ]
          },
          "metadata": {},
          "execution_count": 6
        }
      ]
    },
    {
      "cell_type": "code",
      "metadata": {
        "id": "spDgSTvCg9wk"
      },
      "source": [
        "#establish training and testing dataset\n",
        "train_data, test_data, train_sln, test_sln = \\\n",
        "    train_test_split(cleaned_text, data['sentiment'], test_size = 0.2, random_state=0) "
      ],
      "execution_count": 7,
      "outputs": []
    },
    {
      "cell_type": "markdown",
      "metadata": {
        "id": "ZxpR3Y9IQSXe"
      },
      "source": [
        "###What I did to the data\n",
        "I imported beautiful soup to get a collection of commonly used English stopwords. These words are typically ignored to speed up processing time since they have no connotations. To remove them in the dataset, I replaced them with a space character. To replace the words, however, they all had to be in lowercase so I changed the case of every review. I also removed instances of \"< br />\" as the enter indicator is not helpful for what we are looking for. They were also replaced with space characters. I split the reviews which had the replacements made and rejoined them to get rid of the extra space characters in the reviews. I then trained my model on my freshly cleaned reviews."
      ]
    },
    {
      "cell_type": "markdown",
      "metadata": {
        "id": "-86AHOAkDpge"
      },
      "source": [
        "### Vectorizing the data\n",
        "\n",
        "**CountVectorizer**: Convert a collection of text documents to a matrix of token counts"
      ]
    },
    {
      "cell_type": "code",
      "metadata": {
        "id": "nwmex98NDgqJ"
      },
      "source": [
        "from sklearn.feature_extraction.text import CountVectorizer \n",
        "\n",
        "#Bag of Words with 5000 most common words\n",
        "vectorizer = CountVectorizer(analyzer='word', max_features = 5000)\n",
        "#find the right 5000 words\n",
        "vectorizer.fit(train_data)\n",
        "\n",
        "#use the vectorizer to transform review strings into word count vectors \n",
        "train_data_vectors = vectorizer.transform(train_data).toarray()\n",
        "test_data_vectors = vectorizer.transform(test_data).toarray()"
      ],
      "execution_count": 9,
      "outputs": []
    },
    {
      "cell_type": "code",
      "metadata": {
        "id": "uUSQcsLOEAec"
      },
      "source": [
        "## Now use train_data_vectors and test_data_vectors to train/test/tune your sklearn models.\n",
        "import tensorflow as tf\n",
        "from tensorflow import keras\n",
        "%matplotlib inline\n",
        "import matplotlib as mpl\n",
        "import matplotlib.pyplot as plt\n",
        "mpl.rc('axes', labelsize=14)\n",
        "mpl.rc('xtick', labelsize=12)\n",
        "mpl.rc('ytick', labelsize=12)\n"
      ],
      "execution_count": 10,
      "outputs": []
    },
    {
      "cell_type": "markdown",
      "metadata": {
        "id": "xbMdJJgZAzte"
      },
      "source": [
        "###Data Preparation Explaination\n",
        "[1 point]: Explain your data preparation. What did you have to do to get your data in shape for your experiments - word embeddings, stop words, vectorization, tokeniztion, etc."
      ]
    },
    {
      "cell_type": "markdown",
      "metadata": {
        "id": "ksNth0KGBSMM"
      },
      "source": [
        "## Data Models:\n",
        "\n",
        "###Metrics \n",
        "[1 point]: What metrics will you use to evaluate your model? Why are these metrics the best for your model? (Hint, this should be more than 'accuracy'). \n",
        "\n",
        "I will be using accuracy, MSE, and MAE.<br>\n",
        "###Model Planning and Execution \n",
        "[1 point]: Identify which learning algorithms you will try and which important parameters you will tune for each one.\n",
        "\n",
        "*    SVC\n",
        "*    SVC with ___ tuned\n",
        "*    PCA\n",
        "*    PCA with ___ tuned\n",
        "*    Perceptron\n",
        "*    Perceptron with ___ tuned\n",
        "*    MLP\n",
        "*    MLP with ___ tuned\n"
      ]
    },
    {
      "cell_type": "markdown",
      "metadata": {
        "id": "ZnLoUBtlCdPB"
      },
      "source": [
        "###SVC"
      ]
    },
    {
      "cell_type": "code",
      "metadata": {
        "id": "5QQn-3xBW2oE"
      },
      "source": [
        "from sklearn.svm import SVC\n",
        "from sklearn import metrics\n",
        "from sklearn.metrics import confusion_matrix\n",
        "import seaborn as sns\n",
        "#load up scikit-learn SVC (Support Vector Classifier)\n",
        "clf = SVC()\n",
        "clf.fit(train_data_vectors,train_sln)\n",
        "predictions = clf.predict(test_data_vectors)\n",
        "\n",
        "#output accuracy\n",
        "print(\"accuracy:\", metrics.accuracy_score(test_sln, predictions))\n",
        "vals = data[\"sentiment\"].unique() ## possible classification values\n",
        "conf_mat = metrics.confusion_matrix(test_sln, predictions, labels=vals)\n",
        "print(pd.DataFrame(conf_mat, index = \"T \" + vals, columns = \"Pred \" + vals))\n",
        "#can do kernal trick to increase dimentionality of data"
      ],
      "execution_count": null,
      "outputs": []
    },
    {
      "cell_type": "markdown",
      "metadata": {
        "id": "b3BERJblXUJ7"
      },
      "source": [
        "###SVC with tuning"
      ]
    },
    {
      "cell_type": "code",
      "metadata": {
        "id": "Cj79PMeEXTt3"
      },
      "source": [
        "import seaborn as sns\n",
        "clf_tuned = SVC(kernal='linear')\n",
        "clf_tuned.fit(train_data_vectors,train_sln)\n",
        "predictions = clf_tuned.predict(test_data_vectors)\n",
        "\n",
        "#output accuracy\n",
        "print(\"accuracy:\", metrics.accuracy_score(test_sln, predictions))\n",
        "\n",
        "\n",
        "pretty = True\n",
        "#This function will print a confusion matrix\n",
        "# It takes the test_slns, the preds, and a boolean variable pretty, which when True will print a prettier confusion matrix and if it's false it will print a standard conf matrix.\n",
        "def print_confusion_matrix(test_sln, preds, pretty):\n",
        "  cf_matrix = confusion_matrix(test_sln, preds,)\n",
        "  if pretty:\n",
        "    sns.heatmap(cf_matrix, annot=True,  xticklabels=['p_positive', 'p_negative'], yticklabels=['t_positive', 't_negative']) #p for predicted, t for true\n",
        "  else:\n",
        "    print(cf_matrix)\n",
        "\n",
        "\n",
        "print_confusion_matrix(test_sln, predictions, True)\n",
        "#can do kernal trick to increase dimentionality of data"
      ],
      "execution_count": null,
      "outputs": []
    },
    {
      "cell_type": "markdown",
      "metadata": {
        "id": "-e5e6aYpCghM"
      },
      "source": [
        "### PCA"
      ]
    },
    {
      "cell_type": "code",
      "metadata": {
        "colab": {
          "base_uri": "https://localhost:8080/"
        },
        "id": "G9MsYgzqXGDe",
        "outputId": "565a1a7b-a5d0-4800-bf5a-1d0594b38c7a"
      },
      "source": [
        "from sklearn import metrics\n",
        "from sklearn.metrics import confusion_matrix\n",
        "from sklearn.decomposition import PCA\n",
        "extractor = PCA(n_components=500, whiten=True)\n",
        "extractor.fit(train_data_vectors)\n",
        "\n",
        "print('this is the variance/importance of each component')\n",
        "print(extractor.explained_variance_ratio_)"
      ],
      "execution_count": 11,
      "outputs": [
        {
          "output_type": "stream",
          "name": "stdout",
          "text": [
            "this is the variance/importance of each component\n",
            "[0.05290782 0.04107314 0.01700187 0.00932024 0.00778201 0.00684092\n",
            " 0.00613093 0.00580128 0.00495295 0.00490561 0.00487795 0.00461933\n",
            " 0.00452288 0.00425769 0.00405112 0.00395352 0.00388187 0.00368611\n",
            " 0.00358535 0.00354926 0.00340193 0.0033438  0.00324466 0.00321683\n",
            " 0.00307888 0.00296112 0.00294373 0.00284783 0.00283145 0.00276717\n",
            " 0.00274399 0.00268798 0.00262014 0.00260124 0.00257261 0.00250869\n",
            " 0.00249951 0.00245289 0.00242573 0.00240136 0.00237211 0.0023582\n",
            " 0.00230889 0.00224781 0.00223579 0.00220547 0.00217295 0.0021232\n",
            " 0.00210918 0.00208076 0.00198666 0.00196999 0.00194595 0.00190935\n",
            " 0.00190483 0.00187521 0.00182889 0.00182654 0.00180412 0.00177704\n",
            " 0.00177321 0.00175325 0.00171539 0.00169971 0.00169212 0.00165987\n",
            " 0.00165226 0.00163867 0.00163181 0.00160426 0.00158916 0.00158448\n",
            " 0.00156489 0.00155443 0.00153831 0.00153482 0.00151722 0.00148777\n",
            " 0.00148183 0.00146802 0.00145691 0.00144244 0.00143032 0.00142648\n",
            " 0.00141786 0.00140086 0.00139546 0.00139215 0.0013659  0.00135915\n",
            " 0.00134705 0.00133032 0.0013277  0.00131366 0.00130639 0.00129849\n",
            " 0.0012936  0.00128438 0.00127129 0.00125508 0.00124564 0.00124051\n",
            " 0.0012325  0.0012208  0.00121541 0.00121181 0.00120987 0.00119756\n",
            " 0.00119061 0.00118219 0.00117631 0.00116744 0.00115505 0.00115191\n",
            " 0.00114935 0.00114274 0.00114004 0.00112983 0.00112211 0.0011199\n",
            " 0.00111155 0.00110333 0.00109432 0.00109341 0.00108899 0.00108606\n",
            " 0.00107775 0.00107414 0.00105793 0.00105623 0.00105374 0.00105276\n",
            " 0.0010433  0.00104122 0.00103407 0.00102943 0.00102191 0.00101811\n",
            " 0.00101471 0.00101359 0.00101017 0.00100296 0.00099968 0.00099688\n",
            " 0.00099269 0.00098123 0.00098059 0.00097718 0.00097157 0.00097051\n",
            " 0.00096958 0.00095693 0.00095227 0.00095072 0.00094929 0.0009473\n",
            " 0.00094389 0.00093828 0.0009354  0.00093346 0.00092518 0.00092173\n",
            " 0.00092066 0.00091611 0.00091371 0.00090634 0.00090292 0.0008988\n",
            " 0.0008948  0.00089147 0.0008869  0.00088472 0.00087823 0.00087583\n",
            " 0.00087565 0.00087291 0.00086872 0.00086104 0.00085921 0.00085533\n",
            " 0.00085069 0.00084807 0.00084184 0.00084055 0.00083684 0.00083642\n",
            " 0.00083029 0.00082655 0.00082328 0.00082035 0.00081828 0.00081672\n",
            " 0.00081345 0.00081128 0.00080926 0.00080192 0.0007985  0.00079713\n",
            " 0.00079366 0.00079136 0.00078934 0.00078669 0.00078327 0.00078156\n",
            " 0.00077749 0.0007757  0.00077485 0.00077235 0.00077037 0.00076878\n",
            " 0.00076474 0.00076197 0.00075589 0.00075374 0.0007529  0.00074872\n",
            " 0.00074626 0.00074614 0.00074547 0.00073915 0.00073664 0.00073377\n",
            " 0.00073061 0.00072715 0.00072417 0.00072203 0.00072107 0.00071782\n",
            " 0.00071638 0.00071435 0.00071027 0.00070919 0.00070712 0.00070547\n",
            " 0.00070401 0.00069964 0.00069674 0.00069581 0.00069351 0.00069265\n",
            " 0.0006879  0.0006873  0.00068455 0.00068289 0.00068    0.00067911\n",
            " 0.00067686 0.00067524 0.00067416 0.00067192 0.00066776 0.00066668\n",
            " 0.00066424 0.00066211 0.0006595  0.00065435 0.00065273 0.00065071\n",
            " 0.00065065 0.00064788 0.00064616 0.00064495 0.000644   0.00064182\n",
            " 0.00063837 0.00063627 0.00063534 0.00063475 0.00063206 0.00062916\n",
            " 0.00062757 0.00062575 0.00062253 0.00062214 0.00062024 0.00061773\n",
            " 0.00061592 0.00061472 0.00061366 0.00061213 0.00060938 0.00060907\n",
            " 0.00060748 0.00060468 0.00060296 0.0006007  0.00059786 0.00059669\n",
            " 0.0005957  0.0005934  0.00059134 0.00059118 0.00059079 0.00059017\n",
            " 0.00058651 0.00058515 0.00058291 0.000582   0.00058103 0.00057886\n",
            " 0.00057873 0.00057658 0.00057265 0.00057108 0.00056949 0.00056846\n",
            " 0.00056811 0.00056699 0.00056519 0.00056281 0.00056165 0.00056096\n",
            " 0.00055961 0.00055898 0.00055631 0.00055494 0.00055327 0.00055203\n",
            " 0.00055002 0.00054957 0.00054919 0.00054792 0.00054634 0.00054408\n",
            " 0.00054352 0.00054187 0.00053991 0.00053842 0.00053636 0.00053509\n",
            " 0.00053344 0.00053296 0.00053116 0.00053022 0.00052941 0.00052807\n",
            " 0.000527   0.00052498 0.00052458 0.0005223  0.00052125 0.00052013\n",
            " 0.00051817 0.00051618 0.00051569 0.00051393 0.0005136  0.00051151\n",
            " 0.00051107 0.00050996 0.00050972 0.00050726 0.00050618 0.00050434\n",
            " 0.00050359 0.00050086 0.00050005 0.00049889 0.00049786 0.00049655\n",
            " 0.00049581 0.00049509 0.00049386 0.00049144 0.00049077 0.00048963\n",
            " 0.00048882 0.00048706 0.00048554 0.00048472 0.00048285 0.00048199\n",
            " 0.00048176 0.00048125 0.00047953 0.0004785  0.00047691 0.00047524\n",
            " 0.00047416 0.00047261 0.00047243 0.00047151 0.00047038 0.00046803\n",
            " 0.00046704 0.00046557 0.00046492 0.00046462 0.00046305 0.00046255\n",
            " 0.00046022 0.00045931 0.00045805 0.00045773 0.00045562 0.00045416\n",
            " 0.00045379 0.0004528  0.00045211 0.00045022 0.00044866 0.00044739\n",
            " 0.00044707 0.00044604 0.00044459 0.00044346 0.00044301 0.00044164\n",
            " 0.00044101 0.00043948 0.00043776 0.00043708 0.00043649 0.00043575\n",
            " 0.00043337 0.00043297 0.00043261 0.00043193 0.00043086 0.00042932\n",
            " 0.00042829 0.00042603 0.00042513 0.00042421 0.00042347 0.00042233\n",
            " 0.00042    0.00041902 0.00041851 0.00041816 0.00041712 0.00041691\n",
            " 0.000416   0.00041486 0.00041429 0.00041295 0.00041203 0.0004111\n",
            " 0.00041    0.00040952 0.00040761 0.00040654 0.00040609 0.00040533\n",
            " 0.00040256 0.00040117 0.00040006 0.00039945 0.00039862 0.0003972\n",
            " 0.00039659 0.00039566 0.00039456 0.00039341 0.00039275 0.00039147\n",
            " 0.00039031 0.00038965 0.0003889  0.00038745 0.00038655 0.00038618\n",
            " 0.00038369 0.00038311 0.00038265 0.0003801  0.00037943 0.00037898\n",
            " 0.00037712 0.00037615 0.00037432 0.0003739  0.00037345 0.00037184\n",
            " 0.00036978 0.00036765 0.00036622 0.00036594 0.0003643  0.00036406\n",
            " 0.0003629  0.00036184 0.00036143 0.00035956 0.00035868 0.0003578\n",
            " 0.0003559  0.00035464 0.00035356 0.00035217 0.00034994 0.00034887\n",
            " 0.00034752 0.00034614 0.00034465 0.00034353 0.00034105 0.00034059\n",
            " 0.00033999 0.00033812]\n"
          ]
        }
      ]
    },
    {
      "cell_type": "markdown",
      "metadata": {
        "id": "Rzr3GhqTXyXq"
      },
      "source": [
        "###PCA with tuning"
      ]
    },
    {
      "cell_type": "code",
      "metadata": {
        "colab": {
          "base_uri": "https://localhost:8080/"
        },
        "id": "MMdkiiF7X0uj",
        "outputId": "1bcf76db-566c-478b-b098-afda144ddb97"
      },
      "source": [
        "from sklearn import metrics\n",
        "from sklearn.metrics import confusion_matrix\n",
        "from sklearn.decomposition import PCA\n",
        "extractor = PCA(n_components=1000, whiten=True)\n",
        "extractor.fit(train_data_vectors)\n",
        "\n",
        "print('this is the variance/importance of each component')\n",
        "print(extractor.explained_variance_ratio_)"
      ],
      "execution_count": 12,
      "outputs": [
        {
          "output_type": "stream",
          "name": "stdout",
          "text": [
            "this is the variance/importance of each component\n",
            "[0.05290782 0.04107314 0.01700187 0.00932024 0.00778201 0.00684092\n",
            " 0.00613093 0.00580128 0.00495295 0.00490561 0.00487795 0.00461933\n",
            " 0.00452288 0.00425769 0.00405112 0.00395352 0.00388187 0.00368611\n",
            " 0.00358535 0.00354926 0.00340193 0.0033438  0.00324466 0.00321683\n",
            " 0.00307888 0.00296112 0.00294373 0.00284783 0.00283145 0.00276717\n",
            " 0.00274399 0.00268798 0.00262014 0.00260124 0.00257261 0.00250869\n",
            " 0.00249951 0.00245289 0.00242573 0.00240136 0.00237211 0.0023582\n",
            " 0.00230889 0.00224781 0.00223579 0.00220547 0.00217295 0.0021232\n",
            " 0.00210918 0.00208076 0.00198666 0.00196999 0.00194595 0.00190936\n",
            " 0.00190484 0.00187521 0.00182889 0.00182654 0.00180412 0.00177705\n",
            " 0.00177321 0.00175325 0.00171539 0.00169971 0.00169212 0.00165988\n",
            " 0.00165226 0.00163868 0.00163181 0.00160427 0.00158916 0.00158449\n",
            " 0.0015649  0.00155444 0.00153832 0.00153483 0.00151722 0.00148778\n",
            " 0.00148183 0.00146803 0.00145691 0.00144245 0.00143033 0.00142649\n",
            " 0.00141787 0.00140087 0.00139547 0.00139216 0.00136592 0.00135917\n",
            " 0.00134706 0.00133033 0.00132772 0.00131367 0.00130641 0.00129851\n",
            " 0.00129361 0.0012844  0.0012713  0.0012551  0.00124566 0.00124053\n",
            " 0.00123253 0.00122083 0.00121544 0.00121184 0.0012099  0.00119759\n",
            " 0.00119064 0.00118222 0.00117634 0.00116749 0.00115509 0.00115194\n",
            " 0.00114939 0.00114278 0.00114009 0.00112986 0.00112217 0.00111995\n",
            " 0.0011116  0.0011034  0.00109437 0.00109347 0.00108905 0.00108614\n",
            " 0.00107782 0.00107419 0.00105799 0.00105634 0.00105383 0.00105282\n",
            " 0.00104338 0.0010413  0.00103416 0.00102953 0.00102201 0.00101819\n",
            " 0.00101481 0.00101369 0.00101025 0.00100305 0.0009998  0.000997\n",
            " 0.00099285 0.00098134 0.0009808  0.0009773  0.0009717  0.00097063\n",
            " 0.00096969 0.0009571  0.00095241 0.00095087 0.00094943 0.00094752\n",
            " 0.00094407 0.00093846 0.00093553 0.00093368 0.00092541 0.00092194\n",
            " 0.00092085 0.00091627 0.0009139  0.00090658 0.00090314 0.00089904\n",
            " 0.00089507 0.00089177 0.00088719 0.00088496 0.00087855 0.00087618\n",
            " 0.00087593 0.00087326 0.00086904 0.00086139 0.0008595  0.00085569\n",
            " 0.00085104 0.00084855 0.00084222 0.00084088 0.00083731 0.00083682\n",
            " 0.00083075 0.00082699 0.00082372 0.00082083 0.00081885 0.00081716\n",
            " 0.00081404 0.00081178 0.00080968 0.00080247 0.0007992  0.00079783\n",
            " 0.00079418 0.00079186 0.00078989 0.00078754 0.00078392 0.00078216\n",
            " 0.00077819 0.00077672 0.00077555 0.00077295 0.00077098 0.00076942\n",
            " 0.00076579 0.00076291 0.00075674 0.00075482 0.00075375 0.00074979\n",
            " 0.00074732 0.00074695 0.00074635 0.00074002 0.00073758 0.00073499\n",
            " 0.00073211 0.00072834 0.00072526 0.00072322 0.00072262 0.00071916\n",
            " 0.00071755 0.00071536 0.00071208 0.00071051 0.00070861 0.00070689\n",
            " 0.00070552 0.00070135 0.0006987  0.0006974  0.00069522 0.0006941\n",
            " 0.00068963 0.00068937 0.00068625 0.00068449 0.00068224 0.00068118\n",
            " 0.00067853 0.00067706 0.00067601 0.00067358 0.00066973 0.00066877\n",
            " 0.00066621 0.0006639  0.00066174 0.00065698 0.00065529 0.00065328\n",
            " 0.00065257 0.00065076 0.00064895 0.0006471  0.00064601 0.00064388\n",
            " 0.00064061 0.00063923 0.00063786 0.00063716 0.00063607 0.00063162\n",
            " 0.00062982 0.00062841 0.00062574 0.00062481 0.00062328 0.00062094\n",
            " 0.00061974 0.00061747 0.000617   0.00061473 0.00061287 0.0006121\n",
            " 0.00061093 0.00060831 0.00060653 0.00060461 0.00060321 0.00060097\n",
            " 0.00059901 0.00059711 0.00059571 0.00059482 0.00059438 0.00059375\n",
            " 0.0005909  0.00058978 0.00058655 0.00058608 0.00058498 0.00058474\n",
            " 0.00058308 0.00058173 0.00057717 0.00057609 0.00057433 0.00057336\n",
            " 0.0005721  0.00057148 0.00057016 0.0005686  0.00056729 0.00056597\n",
            " 0.00056512 0.00056392 0.00056156 0.00055999 0.00055885 0.00055836\n",
            " 0.00055659 0.00055581 0.00055461 0.00055452 0.00055237 0.00055099\n",
            " 0.00055003 0.00054786 0.00054641 0.00054423 0.00054235 0.00054148\n",
            " 0.00054072 0.0005397  0.00053826 0.0005367  0.00053608 0.00053393\n",
            " 0.00053356 0.00053271 0.00053135 0.00053029 0.00052906 0.00052767\n",
            " 0.000527   0.00052522 0.00052496 0.00052363 0.00052278 0.0005206\n",
            " 0.00052029 0.00051877 0.00051789 0.0005175  0.00051621 0.00051313\n",
            " 0.00051208 0.00051135 0.00051063 0.00050888 0.00050743 0.00050682\n",
            " 0.00050648 0.00050426 0.00050327 0.00050202 0.00050193 0.00050012\n",
            " 0.00049974 0.00049837 0.00049697 0.0004958  0.00049453 0.00049311\n",
            " 0.00049184 0.00049137 0.00049065 0.0004902  0.00048882 0.00048866\n",
            " 0.00048731 0.000485   0.0004842  0.00048341 0.00048315 0.00048213\n",
            " 0.00048146 0.00047972 0.00047856 0.00047744 0.0004763  0.00047554\n",
            " 0.00047473 0.00047354 0.00047288 0.00047273 0.00047144 0.00047019\n",
            " 0.00046972 0.00046846 0.00046733 0.00046596 0.00046558 0.00046436\n",
            " 0.00046302 0.00046237 0.00046134 0.00046105 0.0004602  0.00045838\n",
            " 0.00045758 0.00045662 0.00045586 0.00045472 0.00045392 0.00045287\n",
            " 0.0004524  0.00045069 0.00045048 0.00044941 0.00044773 0.00044714\n",
            " 0.00044671 0.00044602 0.00044501 0.00044392 0.00044292 0.00044234\n",
            " 0.00044131 0.00044064 0.0004396  0.00043859 0.00043828 0.0004379\n",
            " 0.00043665 0.00043563 0.00043517 0.00043498 0.00043365 0.00043296\n",
            " 0.00043196 0.00043141 0.00042994 0.00042899 0.00042882 0.00042831\n",
            " 0.00042796 0.00042696 0.00042587 0.00042552 0.00042507 0.00042412\n",
            " 0.00042358 0.00042276 0.00042216 0.00042026 0.0004196  0.00041863\n",
            " 0.00041814 0.00041784 0.00041653 0.00041604 0.00041482 0.00041443\n",
            " 0.00041363 0.00041349 0.00041211 0.00041127 0.00041104 0.00041058\n",
            " 0.0004097  0.00040837 0.000408   0.00040698 0.00040562 0.00040501\n",
            " 0.00040377 0.00040351 0.00040262 0.00040156 0.00040116 0.00040076\n",
            " 0.00040027 0.00039917 0.00039836 0.00039765 0.00039692 0.00039624\n",
            " 0.00039534 0.00039425 0.00039313 0.00039237 0.00039217 0.00039135\n",
            " 0.00039118 0.00039006 0.00038953 0.00038909 0.00038853 0.00038832\n",
            " 0.00038738 0.00038638 0.00038583 0.00038521 0.00038426 0.00038382\n",
            " 0.00038315 0.00038282 0.00038202 0.00038175 0.00038086 0.00038013\n",
            " 0.00037933 0.00037866 0.00037743 0.00037716 0.00037679 0.00037603\n",
            " 0.00037452 0.00037442 0.00037361 0.00037314 0.00037236 0.00037111\n",
            " 0.00037089 0.00037004 0.00036973 0.00036914 0.00036872 0.00036855\n",
            " 0.00036802 0.00036741 0.00036595 0.00036514 0.00036401 0.00036393\n",
            " 0.00036314 0.00036249 0.00036236 0.00036143 0.00036122 0.00036019\n",
            " 0.00035968 0.0003594  0.00035915 0.00035802 0.00035708 0.00035658\n",
            " 0.0003561  0.00035558 0.00035486 0.00035408 0.00035356 0.00035265\n",
            " 0.00035208 0.00035159 0.00035129 0.00035087 0.00034992 0.00034948\n",
            " 0.00034902 0.00034853 0.00034818 0.00034723 0.00034646 0.00034599\n",
            " 0.00034543 0.00034491 0.00034419 0.00034381 0.00034361 0.00034304\n",
            " 0.00034281 0.00034216 0.00034189 0.00034083 0.00034061 0.0003404\n",
            " 0.00033993 0.00033948 0.00033905 0.0003385  0.00033728 0.00033708\n",
            " 0.00033686 0.0003367  0.00033578 0.00033548 0.00033486 0.00033417\n",
            " 0.00033358 0.00033313 0.00033255 0.00033169 0.00033138 0.00033078\n",
            " 0.00033029 0.00032935 0.00032904 0.00032841 0.00032772 0.00032715\n",
            " 0.00032697 0.00032629 0.00032611 0.00032553 0.0003248  0.0003246\n",
            " 0.00032431 0.00032385 0.00032329 0.00032295 0.00032262 0.00032241\n",
            " 0.00032153 0.00032072 0.00032008 0.00031983 0.00031934 0.00031871\n",
            " 0.00031851 0.00031832 0.00031775 0.00031718 0.00031697 0.00031636\n",
            " 0.00031568 0.00031524 0.0003149  0.00031461 0.00031427 0.00031345\n",
            " 0.00031301 0.00031256 0.00031204 0.00031192 0.00031164 0.00031107\n",
            " 0.00031063 0.00031027 0.00030931 0.00030895 0.00030882 0.00030817\n",
            " 0.00030804 0.00030752 0.00030725 0.00030666 0.00030627 0.00030532\n",
            " 0.00030502 0.00030462 0.00030433 0.00030383 0.00030316 0.00030269\n",
            " 0.00030256 0.00030225 0.00030134 0.00030126 0.00030067 0.00030003\n",
            " 0.00029973 0.00029936 0.00029858 0.00029818 0.00029798 0.00029751\n",
            " 0.00029722 0.00029709 0.00029689 0.00029601 0.00029524 0.00029516\n",
            " 0.00029431 0.00029418 0.00029383 0.00029377 0.00029337 0.0002927\n",
            " 0.00029238 0.00029179 0.00029146 0.00029107 0.00029066 0.00029003\n",
            " 0.00028985 0.00028943 0.00028892 0.00028841 0.00028806 0.00028735\n",
            " 0.00028706 0.00028674 0.00028637 0.00028551 0.00028519 0.00028513\n",
            " 0.0002848  0.00028408 0.00028378 0.00028333 0.0002823  0.00028202\n",
            " 0.00028163 0.00028143 0.00028109 0.00028033 0.00027977 0.00027938\n",
            " 0.000279   0.0002787  0.00027818 0.00027786 0.00027753 0.0002769\n",
            " 0.00027642 0.00027602 0.00027566 0.00027541 0.00027455 0.00027443\n",
            " 0.0002738  0.00027359 0.00027344 0.00027329 0.0002729  0.00027276\n",
            " 0.00027252 0.00027162 0.00027143 0.00027104 0.00027052 0.00027018\n",
            " 0.00026976 0.00026924 0.00026893 0.00026876 0.00026854 0.0002679\n",
            " 0.00026771 0.00026701 0.00026644 0.00026617 0.00026612 0.00026546\n",
            " 0.00026542 0.00026491 0.0002647  0.00026412 0.00026381 0.00026337\n",
            " 0.00026306 0.00026219 0.00026174 0.00026139 0.00026081 0.00026048\n",
            " 0.00026026 0.00025989 0.00025969 0.00025927 0.00025893 0.00025823\n",
            " 0.00025771 0.0002572  0.00025668 0.00025643 0.00025631 0.00025597\n",
            " 0.00025552 0.00025497 0.00025467 0.00025447 0.00025428 0.00025397\n",
            " 0.0002535  0.00025313 0.00025251 0.00025199 0.00025188 0.00025149\n",
            " 0.00025119 0.00025077 0.00025041 0.00024976 0.000249   0.00024896\n",
            " 0.00024851 0.00024831 0.00024823 0.00024752 0.0002474  0.00024674\n",
            " 0.00024664 0.00024638 0.0002459  0.00024519 0.00024466 0.00024431\n",
            " 0.00024412 0.00024375 0.00024371 0.00024306 0.00024262 0.00024237\n",
            " 0.00024209 0.00024185 0.00024159 0.00024119 0.00024059 0.00024026\n",
            " 0.00023995 0.00023984 0.00023926 0.0002388  0.00023873 0.0002386\n",
            " 0.00023802 0.00023755 0.00023697 0.00023676 0.00023663 0.00023591\n",
            " 0.00023591 0.00023537 0.00023517 0.00023501 0.00023411 0.00023385\n",
            " 0.00023372 0.00023358 0.0002331  0.00023286 0.00023236 0.00023205\n",
            " 0.00023179 0.00023145 0.00023125 0.00023105 0.00023052 0.00022998\n",
            " 0.0002299  0.00022941 0.00022938 0.00022915 0.00022886 0.00022842\n",
            " 0.00022811 0.00022745 0.00022717 0.00022688 0.00022639 0.00022609\n",
            " 0.00022591 0.00022565 0.00022505 0.00022489 0.00022426 0.00022345\n",
            " 0.00022336 0.0002231  0.00022298 0.00022282 0.00022263 0.00022236\n",
            " 0.00022199 0.00022172 0.0002216  0.00022114 0.00022037 0.0002202\n",
            " 0.00021973 0.00021949 0.00021892 0.00021877 0.00021845 0.00021816\n",
            " 0.0002179  0.0002177  0.00021745 0.00021715 0.00021677 0.00021662\n",
            " 0.00021623 0.00021576 0.00021524 0.00021481 0.00021468 0.00021443\n",
            " 0.00021421 0.00021357 0.00021338 0.00021302 0.00021269 0.00021225\n",
            " 0.00021221 0.00021201 0.00021131 0.00021108 0.00021055 0.00021031\n",
            " 0.00021005 0.00020987 0.00020908 0.00020875 0.00020827 0.00020793\n",
            " 0.0002076  0.00020702 0.00020643 0.00020625 0.00020589 0.00020575\n",
            " 0.00020537 0.00020527 0.00020479 0.0002047  0.00020463 0.00020447\n",
            " 0.00020385 0.0002034  0.00020289 0.00020273 0.00020245 0.00020194\n",
            " 0.0002016  0.00020125 0.000201   0.00020063 0.00019985 0.00019957\n",
            " 0.00019936 0.000199   0.00019838 0.00019814 0.00019788 0.00019756\n",
            " 0.00019735 0.00019705 0.00019648 0.00019635 0.00019622 0.00019572\n",
            " 0.00019484 0.00019441 0.00019427 0.00019384 0.00019374 0.00019348\n",
            " 0.0001931  0.0001927  0.00019257 0.00019219 0.00019147 0.00019102\n",
            " 0.00019094 0.00019071 0.00019012 0.00018991 0.0001893  0.00018922\n",
            " 0.00018863 0.00018805 0.00018787 0.0001877  0.00018724 0.000187\n",
            " 0.00018645 0.00018625 0.00018574 0.00018534 0.00018512 0.0001848\n",
            " 0.00018455 0.00018429 0.00018362 0.00018314 0.00018274 0.00018222\n",
            " 0.00018196 0.00018165 0.00018127 0.00018079 0.00018053 0.00018012\n",
            " 0.00017986 0.00017948 0.00017911 0.00017862 0.00017833 0.00017783\n",
            " 0.00017755 0.00017684 0.00017632 0.00017572 0.00017554 0.00017524\n",
            " 0.00017458 0.00017415 0.0001737  0.00017302]\n"
          ]
        }
      ]
    },
    {
      "cell_type": "markdown",
      "metadata": {
        "id": "NXulYlTMCkUM"
      },
      "source": [
        "###Perceptron "
      ]
    },
    {
      "cell_type": "code",
      "metadata": {
        "colab": {
          "base_uri": "https://localhost:8080/"
        },
        "id": "5fbEOt1BXwt6",
        "outputId": "716e39e0-af82-49dd-b9c0-71aac9f4e368"
      },
      "source": [
        "from sklearn import metrics\n",
        "from sklearn.metrics import confusion_matrix\n",
        "from sklearn.linear_model import Perceptron\n",
        "perc = Perceptron()\n",
        "perc.fit(train_data_vectors,train_sln)\n",
        "perc_predictions = perc.predict(test_data_vectors)\n",
        "print(\"Sentiment accuracy:\", metrics.accuracy_score(test_sln, perc_predictions))"
      ],
      "execution_count": 13,
      "outputs": [
        {
          "output_type": "stream",
          "name": "stdout",
          "text": [
            "Sentiment accuracy: 0.8528\n"
          ]
        }
      ]
    },
    {
      "cell_type": "markdown",
      "metadata": {
        "id": "oUq_q7oEX1nK"
      },
      "source": [
        "###Perceptron with tuning"
      ]
    },
    {
      "cell_type": "code",
      "metadata": {
        "id": "w79O0O1lX3f_",
        "colab": {
          "base_uri": "https://localhost:8080/"
        },
        "outputId": "1fd5b59d-9642-4b83-8bb8-5f95a891f6d7"
      },
      "source": [
        "from sklearn import metrics\n",
        "from sklearn.metrics import confusion_matrix\n",
        "from sklearn.linear_model import Perceptron\n",
        "perc = Perceptron(n_iter_no_change = 10, early_stopping=True)\n",
        "perc.fit(train_data_vectors,train_sln)\n",
        "perc_predictions = perc.predict(test_data_vectors)\n",
        "print(\"Sentiment accuracy:\", metrics.accuracy_score(test_sln, perc_predictions))"
      ],
      "execution_count": 14,
      "outputs": [
        {
          "output_type": "stream",
          "name": "stdout",
          "text": [
            "Sentiment accuracy: 0.8452\n"
          ]
        }
      ]
    },
    {
      "cell_type": "markdown",
      "metadata": {
        "id": "BFvyGujQCq6X"
      },
      "source": [
        "### Multilayer Perceptron (MLP)"
      ]
    },
    {
      "cell_type": "code",
      "metadata": {
        "colab": {
          "base_uri": "https://localhost:8080/",
          "height": 286
        },
        "id": "rh1pdKFTPN9q",
        "outputId": "20921085-6a89-4785-c6cd-49d40aa6daf6"
      },
      "source": [
        "from sklearn.neural_network import MLPClassifier\n",
        "from sklearn import metrics\n",
        "from sklearn.metrics import confusion_matrix\n",
        "\n",
        "mlp = MLPClassifier(random_state=0,hidden_layer_sizes = (100,))\n",
        "mlp.fit(train_data_vectors,train_sln)\n",
        "predictions = mlp.predict(test_data_vectors)\n",
        "\n",
        "print(\"Accuracy: \", metrics.accuracy_score(test_sln,predictions))\n",
        "\n",
        "#confusion matric\n",
        "import seaborn as sns\n",
        "\n",
        "pretty = True\n",
        "#This function will print a confusion matrix\n",
        "# It takes the test_slns, the preds, and a boolean variable pretty, which when True will print a prettier confusion matrix and if it's false it will print a standard conf matrix.\n",
        "def print_confusion_matrix(test_sln, preds, pretty):\n",
        "  cf_matrix = confusion_matrix(test_sln, preds,)\n",
        "  if pretty:\n",
        "    sns.heatmap(cf_matrix, annot=True,  xticklabels=['p_positive', 'p_negative'], yticklabels=['t_positive', 't_negative']) #p for predicted, t for true\n",
        "  else:\n",
        "    print(cf_matrix)\n",
        "\n",
        "\n",
        "print_confusion_matrix(test_sln, predictions, True)"
      ],
      "execution_count": 15,
      "outputs": [
        {
          "output_type": "stream",
          "name": "stdout",
          "text": [
            "Accuracy:  0.8721\n"
          ]
        },
        {
          "output_type": "display_data",
          "data": {
            "image/png": "[encoded data removed]",
            "text/plain": [
              "<Figure size 432x288 with 2 Axes>"
            ]
          },
          "metadata": {
            "needs_background": "light"
          }
        }
      ]
    },
    {
      "cell_type": "markdown",
      "metadata": {
        "id": "JIC-0IjYX4pq"
      },
      "source": [
        "###MLP with tuning"
      ]
    },
    {
      "cell_type": "code",
      "metadata": {
        "id": "wt9wJUFDX6XO",
        "colab": {
          "base_uri": "https://localhost:8080/",
          "height": 286
        },
        "outputId": "8a874425-4919-42fe-cd86-efe46b1222a5"
      },
      "source": [
        "from sklearn.neural_network import MLPClassifier\n",
        "from sklearn import metrics\n",
        "from sklearn.metrics import confusion_matrix\n",
        "\n",
        "mlp = MLPClassifier(random_state=0,hidden_layer_sizes = (100,), max_iter = 600, early_stopping=True)\n",
        "mlp.fit(train_data_vectors,train_sln)\n",
        "predictions = mlp.predict(test_data_vectors)\n",
        "\n",
        "print(\"Accuracy: \", metrics.accuracy_score(test_sln,predictions))\n",
        "\n",
        "#confusion matric\n",
        "import seaborn as sns\n",
        "\n",
        "pretty = True\n",
        "#This function will print a confusion matrix\n",
        "# It takes the test_slns, the preds, and a boolean variable pretty, which when True will print a prettier confusion matrix and if it's false it will print a standard conf matrix.\n",
        "def print_confusion_matrix(test_sln, preds, pretty):\n",
        "  cf_matrix = confusion_matrix(test_sln, preds,)\n",
        "  if pretty:\n",
        "    sns.heatmap(cf_matrix, annot=True,  xticklabels=['p_positive', 'p_negative'], yticklabels=['t_positive', 't_negative']) #p for predicted, t for true\n",
        "  else:\n",
        "    print(cf_matrix)\n",
        "\n",
        "\n",
        "print_confusion_matrix(test_sln, predictions, True)"
      ],
      "execution_count": 16,
      "outputs": [
        {
          "output_type": "stream",
          "name": "stdout",
          "text": [
            "Accuracy:  0.8822\n"
          ]
        },
        {
          "output_type": "display_data",
          "data": {
            "image/png": "[encoded data removed]",
            "text/plain": [
              "<Figure size 432x288 with 2 Axes>"
            ]
          },
          "metadata": {
            "needs_background": "light"
          }
        }
      ]
    },
    {
      "cell_type": "markdown",
      "metadata": {
        "id": "vbUmUhc4Bwik"
      },
      "source": [
        "##Results\n",
        "[1 point]: \n",
        "\n",
        "After you conduct your learning experiment, summarize the results you got. Include visualizations as appropriate."
      ]
    },
    {
      "cell_type": "markdown",
      "metadata": {
        "id": "yuuEBpjwCGvt"
      },
      "source": [
        "## Wrap Up\n",
        "###Bumps in the Road \n",
        "[1 point]: What challenges did you encounter? How did you overcome these challenges? Did you have to adapt your strategy to account for these challenges? Why or why not? <br>\n",
        "###Conclusions: \n",
        "What insights/recommendations do you have? What did you find that was interesting? Which model was your best model, which models didn't work well? Why do you think this is? In general, I want a discussion of your experiment, the results, and what they mean."
      ]
    },
    {
      "cell_type": "markdown",
      "metadata": {
        "id": "Nh3F6juAFhXK"
      },
      "source": [
        "# Extra Credit"
      ]
    }
  ]
}